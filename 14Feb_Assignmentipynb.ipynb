{
  "nbformat": 4,
  "nbformat_minor": 0,
  "metadata": {
    "colab": {
      "provenance": []
    },
    "kernelspec": {
      "name": "python3",
      "display_name": "Python 3"
    },
    "language_info": {
      "name": "python"
    }
  },
  "cells": [
    {
      "cell_type": "markdown",
      "source": [
        "####1. What is multithreading in python? why is it used? Name the module used to handle threads in python.\n",
        "\n"
      ],
      "metadata": {
        "id": "95vMFxqSC4B1"
      }
    },
    {
      "cell_type": "markdown",
      "source": [
        "---->>\n",
        "\n",
        "Multithreading is defined as the ability of a processor to execute multiple threads concurrently.\n",
        "\n",
        "In computing, a process is an instance of a computer program that is being executed. Any process has 3 basic components:\n",
        "\n",
        "An executable program.\n",
        "The associated data needed by the program (variables, work space, buffers, etc.)\n",
        "The execution context of the program (State of process)\n",
        "A thread is an entity within a process that can be scheduled for execution. Also, it is the smallest unit of processing that can be performed in an OS (Operating System). In simple words, a thread is a sequence of such instructions within a program that can be executed independently of other code. For simplicity, you can assume that a thread is simply a subset of a process! \n",
        "\n",
        "**Why is it used** :--\n",
        "\n",
        "For a single process, multiple threads can be used to process and share the same data-space and can communicate with each other by sharing information.\n",
        "They use lesser memory overhead, and hence they are called lightweight processes.\n",
        "A program can remain responsive to input when threads are used.\n",
        "Threads can share and process the global variable's memory.\n",
        "\n",
        "**Threading module** Is the module used to handle thread"
      ],
      "metadata": {
        "id": "bdMjtgHCEfNR"
      }
    },
    {
      "cell_type": "markdown",
      "source": [
        "#### 2. Why threading module used? Write the use of the following functions\n",
        "\n",
        "1. activeCount\n",
        "2. currentThread()\n",
        "3. enumerate()\n",
        "\n"
      ],
      "metadata": {
        "id": "q2yQSyvPF6el"
      }
    },
    {
      "cell_type": "markdown",
      "source": [
        "-->> \n",
        "The process consists of more than one thread, and all these threads share the opened resources; memory map in the same process have their stacks. It has more benefits than drawbacks. One uses the process to run a program independently at the equivalent time, not having particularly written to operate with one another. Utilizing these processes provides you preferable security for the unintended interference within tasks which can be either errors in programming or something malicious, so chrome only processes per tab rather than using threads. Moreover, Chrome uses more memory than Firefox when more tabs are opened. You can save memory by the use of threads, and multiple things are shared.\n",
        "\n",
        "\n",
        "\n",
        "\n",
        "threading.activeCount() − Returns the number of thread objects that are active.\n",
        "\n",
        "\n",
        "threading.currentThread() − Returns the number of thread objects in the caller's thread control.\n",
        "\n",
        "threading.enumerate() − Returns a list of all thread objects that are currently active.\n"
      ],
      "metadata": {
        "id": "cAjKnaUQF6ur"
      }
    },
    {
      "cell_type": "markdown",
      "source": [
        "**3. Explain the following functions :**\n",
        "1. run\n",
        "2. start\n",
        "3. join\n",
        "4. isAlive\n",
        "\n",
        "--->>>\n",
        "\n",
        "run()  − The run() method is the entry point for a thread.\n",
        "\n",
        "start()  − The start() method starts a thread by calling the run method.\n",
        "\n",
        "join([time])  − The join() waits for threads to terminate.\n",
        "\n",
        "isAlive()  − The isAlive() method checks whether a thread is still executing.\n"
      ],
      "metadata": {
        "id": "BwzqXO7GF68h"
      }
    },
    {
      "cell_type": "markdown",
      "source": [
        "**4. Write a python program to create two threads. Thread one must print the list of squares and thread\n",
        "two must print the list of cubes.**"
      ],
      "metadata": {
        "id": "ofbFonUlIGsY"
      }
    },
    {
      "cell_type": "code",
      "source": [
        "import threading\n",
        "\n",
        "def square(n):\n",
        "  return n**2\n",
        "\n",
        "def cube(n):\n",
        "  return n**3\n"
      ],
      "metadata": {
        "id": "9HwzTFTLJGBZ"
      },
      "execution_count": 47,
      "outputs": []
    },
    {
      "cell_type": "code",
      "source": [
        "thred1 = [threading.Thread(target = square, args = (i,)) for i in [1,2,3,4,5,6,7,8,9]]\n",
        "thred2 = [threading.Thread(target = cube, args = (i,)) for i in [1,2,3,4,5,6,7,8,9]]"
      ],
      "metadata": {
        "id": "G4hIAEb1JrEn"
      },
      "execution_count": 49,
      "outputs": []
    },
    {
      "cell_type": "code",
      "source": [
        "for t in thred1:\n",
        "  t.start()\n",
        "  t.join()"
      ],
      "metadata": {
        "id": "pO9KWlByKPRG"
      },
      "execution_count": 50,
      "outputs": []
    },
    {
      "cell_type": "code",
      "source": [
        "for d in thred2:\n",
        "  d.start()\n",
        "  d.join()"
      ],
      "metadata": {
        "id": "-xKwFsFMKPdK"
      },
      "execution_count": 51,
      "outputs": []
    },
    {
      "cell_type": "markdown",
      "source": [
        "**5. State advantages and disadvantages of multithreading**\n",
        "\n",
        "---->>\n",
        "Advantages of Thread\n",
        "\n",
        "Threads minimize the context switching time.\n",
        "Use of threads provides concurrency within a process.\n",
        "Efficient communication.\n",
        "It is more economical to create and context switch threads.\n",
        "Threads allow utilization of multiprocessor architectures to a greater scale and efficiency.\n",
        "\n",
        "Disadvantage is :\n",
        "\n",
        "With more threads, the code becomes difficult to debug and maintain.\n",
        "Thread creation puts a load on the system in terms of memory and CPU resources.\n",
        "We need to do exception handling inside the worker method as any unhandled exceptions can result in the program crashing."
      ],
      "metadata": {
        "id": "FKchjvcYIG5S"
      }
    },
    {
      "cell_type": "markdown",
      "source": [
        "**6. Explain deadlocks and race conditions.**"
      ],
      "metadata": {
        "id": "SXJ_tpCQOJPY"
      }
    },
    {
      "cell_type": "markdown",
      "source": [
        "Race Condition And Deadlock\n",
        "Both share some similarities, such as they both occur in multi-thread solutions and hamper device performance. However, both are not the same.\n",
        "\n",
        "A race condition occurs when two threads use the same variable at a given time. Deadlock exists when two threads seek one lock simultaneously.  \n",
        "\n",
        "This situation will stop both threads from processing or executing the functions. In racing, two tasks compete with each other and try to complete a task before each other.\n",
        "\n",
        "In a deadlock, two processes are waiting and expecting the complementary process to complete the task.\n"
      ],
      "metadata": {
        "id": "fjhyhUwxIHCG"
      }
    },
    {
      "cell_type": "markdown",
      "source": [],
      "metadata": {
        "id": "NK5FnsgtIHNv"
      }
    }
  ]
}