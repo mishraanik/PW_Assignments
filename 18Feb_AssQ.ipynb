{
  "nbformat": 4,
  "nbformat_minor": 0,
  "metadata": {
    "colab": {
      "provenance": []
    },
    "kernelspec": {
      "name": "python3",
      "display_name": "Python 3"
    },
    "language_info": {
      "name": "python"
    }
  },
  "cells": [
    {
      "cell_type": "markdown",
      "source": [
        "**Q1. What is an API? Give an example, where an API is used in real life.**\n",
        "\n",
        "-->>\n",
        "\n",
        "API is an abbreviation for Application Programming Interface which is a collection of communication protocols and subroutines used by various programs to communicate between them. A programmer can make use of various API tools to make their program easier and simpler. Also, an API facilitates programmers with an efficient way to develop their software programs. Thus in simpler terms, an API helps two programs or applications to communicate with each other by providing them with the necessary tools and functions. It takes the request from the user and sends it to the service provider and then again sends the result generated from the service provider to the desired user. \n",
        "\n",
        "A developer extensively uses APIs in his software to implement various features by using an API call without writing complex codes for the same. We can create an API for an operating system, database system, hardware system, JavaScript file, or similar object-oriented files. Also, an API is similar to a GUI(Graphical User Interface) with one major difference. Unlike GUIs, an API helps software developers to access web tools while a GUI helps to make a program easier to understand by users. \n",
        "\n",
        "\n",
        "*API'S used in real life ::::----*\n",
        "\n",
        "We can take Zomato as an example to explain the concept of an API. Zomato receives a request for an order, the customer can track the driver’s location. Here, the API functions in this way- the Zomato app integrates with Google Map where after integration, google maps help you to track the location. "
      ],
      "metadata": {
        "id": "H_oM_kqZKKnH"
      }
    },
    {
      "cell_type": "markdown",
      "source": [
        "**Q2. Give advantages and disadvantages of using API.**\n",
        "\n",
        "-->>\n",
        "\n",
        "**Advantages of APIs**\n",
        "\n",
        "Efficiency: API produces efficient, quicker, and more reliable results than the outputs produced by human beings in an organization.\n",
        "\n",
        "Flexible delivery of services: API provides fast and flexible delivery of services according to developers’ requirements.\n",
        "\n",
        "Integration: The best feature of API is that it allows the movement of data between various sites and thus enhances the integrated user experience.\n",
        "\n",
        "Automation: As API makes use of robotic computers rather than humans, it produces better and more automated results.\n",
        "\n",
        "New functionality: While using API the developers find new tools and functionality for API exchanges.\n",
        "\n",
        "\n",
        "**Disadvantages of APIs** \n",
        "\n",
        "Cost: Developing and implementing API is costly at times and requires high maintenance and support from developers.\n",
        "\n",
        "Security issues: Using API adds another layer of surface which is then prone to attacks, and hence the security risk problem is common in APIs."
      ],
      "metadata": {
        "id": "2mj4LQktKKrP"
      }
    },
    {
      "cell_type": "markdown",
      "source": [
        "**Q3. What is a Web API? Differentiate between API and Web API.**\n",
        "\n",
        "-->>\n",
        "\n",
        "Web API Is simply an API for the web. It is an API that can be accessed using the HTTP protocol. It can be built using Java, .nET, etc. It is implemented to extend the functionality of a browser, simplify complex functions, and provide easy syntax to complex code. \n",
        "\n",
        "The four main types of web APIs are:\n",
        "\n",
        "Open API\n",
        "\n",
        "Partner API\n",
        "\n",
        "Internal API\n",
        "\n",
        "Composite API\n",
        "\n",
        "**Differentiate**\n",
        "\n",
        "Web service is a collection of open source protocols and standards used for exchanging data between systems or applications, whereas API is a software interface that allows two applications to interact with each other without any user involvement.\n",
        "\n",
        "Web service is used for REST, SOAP, and XML-RPC for communication, while API is used for any style of communication.\n",
        "\n",
        "Web service supports only HTTP protocol, whereas API supports HTTP/HTTPS protocol.\n",
        "\n",
        "Web service supports XML, while API supports XML and JSON.\n",
        "All Web services are APIs, but all APIs are not web services.\n"
      ],
      "metadata": {
        "id": "PIEKGpjwKKxa"
      }
    },
    {
      "cell_type": "markdown",
      "source": [
        "**Q4. Explain REST and SOAP Architecture. Mention shortcomings of SOAP.**\n",
        "\n",
        "-->>\n",
        "\n",
        "**SOAP stands for Simple Object Access Protocol** is a network platform used in a web service to exchange or communicate data between two different machines on a network. It uses the XML format of data to transfer messages over the HTTP protocol. In Web services, SOAP allows the user request to interact with other programming languages. In this way, it provides a way to communicate between applications running on different platforms (Operating system), with programming languages and technologies used in web service.\n",
        "\n",
        "**Characteristics of SOAP**\n",
        "\n",
        "It is an open standard protocol used in the web service to communicate via internet.\n",
        "\n",
        "It is used to broadcast a message over the network.\n",
        "\n",
        "It is used to call remote procedures and exchange documents.\n",
        "\n",
        "It can be used on any platform and can support multi-languages. So, it is a platform and language independent.\n",
        "\n",
        "It uses the XML format to send messages over the HTTP protocol.\n",
        "\n",
        "The structure of a SOAP message consists of an envelope, header, and body element.\n",
        "\n",
        "**REST stands for REpresentational State Transfer.** It is an architectural style that provides standards between computer systems on a web service. It is a set of constraints used to create a lightweight, scalable, and maintainable web service that facilitates easy communication. It is a set of constraints used to create a lightweight, scalable and maintainable web service that makes easy communication with each other. All web services are based on the REST; hence it is called a RESTful service. The purpose of developing a RESTful web service is to make the web service more effective. The Roy Fielding develops it in 2000, who also developed the HTTP protocol. It does not depend on a specific protocol to use, but it's used HTTP/HTTPS.\n",
        "\n",
        "**REST Characteristics**\n",
        "\n",
        "It is a Stateless server.\n",
        "\n",
        "It supports JSON and XML\n",
        "\n",
        "It is simple than SOAP.\n",
        "\n",
        "It has well-maintained documentation that reflect each change in the architectures of the REST.\n",
        "\n",
        "It is a simple approach to build the client and server service.\n",
        "\n",
        "It follows standard protocol such as HTTP, HTTPS and FTP.\n",
        "\n",
        "It provides a way to connect with server-side applications.\n",
        "\n",
        "It is based on architectural style for designing simple, lightweight, and distributed web services compared to SOAP.\n",
        "\n",
        "Examples of REST Systems are -Google Glass API, Amazon web services, Atom, Tesla Model S.\n",
        "\n",
        "  **Shortcomings of SOAP :--**\n",
        "\n",
        "SOAP is used only XML format data in web service, whereas JSON and other lightweight formats are not supported by it.\n",
        "\n",
        "It is slow because it uses XML format, whereas the payload for a simple string message is large.\n",
        "\n",
        "There are no security features in the SOAP specification.\n",
        "\n",
        "There is no state reference for the remote object in the SOAP client."
      ],
      "metadata": {
        "id": "dh1qSzX7KK6h"
      }
    },
    {
      "cell_type": "markdown",
      "source": [
        "**Q5. Differentiate between REST and SOAP.**\n",
        "\n",
        "-->>\n",
        "\n",
        "\t**SOAP**                           \t**REST**\n",
        "\n",
        "1)\tSOAP is a protocol. <<<--->>>\tREST is an architectural style.\n",
        "\n",
        "2)\tSOAP stands for Simple Object Access Protocol. <<<--->>> REST stands for REpresentational State Transfer.\n",
        "\n",
        "3)\tSOAP can't use REST because it is a protocol. <<<--->>>\tREST can use SOAP web services because it is a concept and can use any protocol like HTTP, SOAP.\n",
        "\n",
        "4)\tSOAP uses services interfaces to expose the business logic. <<<--->>>\tREST uses URI to expose business logic.\n",
        "\n",
        "5)\tJAX-WS is the java API for SOAP web services.\t<<<--->>> JAX-RS is the java API for RESTful web services.\n",
        "\n",
        "6)\tSOAP defines standards to be strictly followed. <<<--->>>\tREST does not define too much standards like SOAP.\n",
        "7)\tSOAP requires more bandwidth and resource than REST.\tREST requires less bandwidth and resource than SOAP.\n",
        "\n",
        "8)\tSOAP defines its own security.\t<<<--->>> RESTful web services inherits security measures from the underlying transport.\n",
        "\n",
        "9)\tSOAP permits XML data format only.\t<<<--->>> REST permits different data format such as Plain text, HTML, XML, JSON etc.\n",
        "\n",
        "10)\tSOAP is less preferred than REST.\t<<<--->>> REST more preferred than SOAP."
      ],
      "metadata": {
        "id": "IZf8KwWsKLBH"
      }
    },
    {
      "cell_type": "code",
      "source": [],
      "metadata": {
        "id": "qE1ZduWsRLXD"
      },
      "execution_count": null,
      "outputs": []
    }
  ]
}