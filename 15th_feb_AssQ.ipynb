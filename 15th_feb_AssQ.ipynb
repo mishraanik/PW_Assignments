{
  "nbformat": 4,
  "nbformat_minor": 0,
  "metadata": {
    "colab": {
      "provenance": []
    },
    "kernelspec": {
      "name": "python3",
      "display_name": "Python 3"
    },
    "language_info": {
      "name": "python"
    }
  },
  "cells": [
    {
      "cell_type": "markdown",
      "source": [
        "**Q1. What is multiprocessing in python? Why is it useful?**\n",
        "\n",
        "--->>\n",
        "Multiprocessing refers to the ability of a system to support more than one processor at the same time. Applications in a multiprocessing system are broken to smaller routines that run independently. The operating system allocates these threads to the processors improving performance of the system.\n",
        "\n",
        "A multiprocessing system can have:\n",
        "\n",
        "multiprocessor, i.e. a computer with more than one central processor.\n",
        "multi-core processor, i.e. a single computing component with two or more independent actual processing units (called “cores”).\n",
        "Here, the CPU can easily executes several tasks at once, with each task using its own processor.\n",
        "\n",
        "Multiprocessing in Python\n",
        "by Daniel Chung on April 26, 2022 in Python for Machine Learning\n",
        "Tweet Tweet  Share\n",
        "Last Updated on June 21, 2022\n",
        "\n",
        "When you work on a computer vision project, you probably need to preprocess a lot of image data. This is time-consuming, and it would be great if you could process multiple images in parallel. Multiprocessing is the ability of a system to run multiple processors at one time. If you had a computer with a single processor, it would switch between multiple processes to keep all of them running. However, most computers today have at least a multi-core processor, allowing several processes to be executed at once. The Python Multiprocessing Module is a tool for you to increase your scripts’ efficiency by allocating tasks to different processes.\n",
        "\n",
        "After completing this tutorial, you will know:\n",
        "\n",
        "Why we would want to use multiprocessing\n",
        "How to use basic tools in the Python multiprocessing module\n",
        "Kick-start your project with my new book Python for Machine Learning, including step-by-step tutorials and the Python source code files for all examples.\n",
        "\n",
        "Let’s get started.\n",
        "\n",
        "Multiprocessing in Python\n",
        "Photo by Thirdman. Some rights reserved.\n",
        "\n",
        "Overview\n",
        "This tutorial is divided into four parts; they are:\n",
        "\n",
        "Benefits of multiprocessing\n",
        "Basic multiprocessing\n",
        "Multiprocessing for real use\n",
        "Using joblib\n",
        "Benefits of Multiprocessing\n",
        "You may ask, “Why Multiprocessing?” Multiprocessing can make a program substantially more efficient by running multiple tasks in parallel instead of sequentially. A similar term is multithreading, but they are different.\n",
        "\n",
        "A process is a program loaded into memory to run and does not share its memory with other processes. A thread is an execution unit within a process. Multiple threads run in a process and share the process’s memory space with each other.\n",
        "\n",
        "Python’s Global Interpreter Lock (GIL) only allows one thread to be run at a time under the interpreter, which means you can’t enjoy the performance benefit of multithreading if the Python interpreter is required. This is what gives multiprocessing an upper hand over threading in Python. Multiple processes can be run in parallel because each process has its own interpreter that executes the instructions allocated to it. Also, the OS would see your program in multiple processes and schedule them separately, i.e., your program gets a larger share of computer resources in total. So, multiprocessing is faster when the program is CPU-bound. In cases where there is a lot of I/O in your program, threading may be more efficient because most of the time, your program is waiting for the I/O to complete. However, multiprocessing is generally more efficient because it runs concurrently."
      ],
      "metadata": {
        "id": "ohGjK6SQSDfQ"
      }
    },
    {
      "cell_type": "markdown",
      "source": [
        "**Q2. What are the differences between multiprocessing and multithreading?**\n",
        "\n",
        "\n",
        "\n",
        "--->>\n",
        "**Advantage of Multiprocessing**\n",
        "\n",
        "The biggest advantage of a multiprocessor system is that it helps you to get more work done in a shorter period.\n",
        "The code is usually straightforward.\n",
        "Takes advantage of multiple CPU & cores\n",
        "Helps you to avoid GIL limitations for CPython\n",
        "Remove synchronization primitives unless if you use shared memory.\n",
        "Child processes are mostly interruptible/killable\n",
        "It helps you to get work done in a shorter period.\n",
        "These types of systems should be used when very high speed is required to process a large volume of data.\n",
        "Multiprocessing systems save money compared to single processor systems as processors can share peripherals and power supplies.\n",
        "\n",
        "**Advantage of Multithreading**\n",
        "\n",
        "\n",
        "Threads share the same address space\n",
        "Threads are lightweight which has a low memory footprint\n",
        "The cost of communication between threads is low.\n",
        "Access to memory state from another context is easier\n",
        "It allows you to make responsive UIs easily\n",
        "An ideal option for I/O-bound applications\n",
        "Takes lesser time to switch between two threads within the shared memory and time to terminate\n",
        "Threads are faster to start than processes and also faster in task-switching.\n",
        "All Threads share a process memory pool that is very beneficial.\n",
        "Takes lesser time to create a new thread in the existing process than a new process\n",
        "\n",
        "**Disadvantage of Multiprocessing**\n",
        "\n",
        "IPC(Inter-Process Communication) a quite complicated with more overhead\n",
        "Has a larger memory footprint\n",
        "\n",
        "Disadvantage of multithreading\n",
        "\n",
        "Multithreading system is not interruptible/killable\n",
        "If not following a command queue and message pump model then manual use of synchronization needed which becomes a necessity\n",
        "Code is usually harder to understand and increases the potential for race conditions increases dramatically\n",
        "\n"
      ],
      "metadata": {
        "id": "lB1prEKPSDlo"
      }
    },
    {
      "cell_type": "markdown",
      "source": [
        "**Q3. Write a python code to create a process using the multiprocessing module.**\n",
        "\n"
      ],
      "metadata": {
        "id": "dxzwwRKZSDoJ"
      }
    },
    {
      "cell_type": "code",
      "source": [
        "import multiprocessing\n",
        "\n",
        "def greetings():\n",
        "  print(\"Viva La\")\n",
        "\n",
        "if __name__ == '__main__':\n",
        "  m = multiprocessing.Process(target = greetings)\n",
        "  print(\"I'm writing my multiprocessing program\")\n",
        "  m.start()\n",
        "  m.join()"
      ],
      "metadata": {
        "colab": {
          "base_uri": "https://localhost:8080/"
        },
        "id": "n2WCLvoy30ji",
        "outputId": "9ddf65cf-df79-4c24-8068-a60f4cda968b"
      },
      "execution_count": 1,
      "outputs": [
        {
          "output_type": "stream",
          "name": "stdout",
          "text": [
            "I'm writing my multiprocessing program\n",
            "Viva La\n"
          ]
        }
      ]
    },
    {
      "cell_type": "markdown",
      "source": [
        "\n",
        "\n",
        "**Q4. What is a multiprocessing pool in python? Why is it used?**\n",
        "\n",
        "\n",
        "---->>>>\n",
        "The multiprocessing.pool.Pool class provides a process pool in Python.\n",
        "\n",
        "You can access the process pool class via the helpful alias multiprocessing.Pool.\n",
        "\n",
        "It allows tasks to be submitted as functions to the process pool to be executed concurrently.\n",
        "\n",
        "A process pool object which controls a pool of worker processes to which jobs can be submitted. It supports asynchronous results with timeouts and callbacks and has a parallel map implementation.\n",
        "\n",
        "— MULTIPROCESSING — PROCESS-BASED PARALLELISM\n",
        "A process pool is a programming pattern for automatically managing a pool of worker processes.\n",
        "\n",
        "The pool can provide a generic interface for executing ad hoc tasks with a variable number of arguments, much like the target property on the Process object, but does not require that we choose a process to run the task, start the process, or wait for the task to complete.\n",
        "\n",
        "To use the process pool, we must first create and configure an instance of the class.\n",
        "\n",
        "**Why pool is used ::**\n",
        "\n",
        "Here are some benefits of using multiprocessing pool in Python:\n",
        "\n",
        "Better usage of the CPU when dealing with high CPU-intensive tasks.\n",
        "More control over a child compared with threads.\n",
        "Easy to code1."
      ],
      "metadata": {
        "id": "L3rqFrQ7SDqJ"
      }
    },
    {
      "cell_type": "markdown",
      "source": [
        "**Q5. How can we create a pool of worker processes in python using the multiprocessing module?**"
      ],
      "metadata": {
        "id": "i__Xh-VOSDsX"
      }
    },
    {
      "cell_type": "code",
      "source": [
        "from multiprocessing import Pool, Process\n",
        "\n",
        "class Worker(Process):\n",
        "    def __init__(self):\n",
        "        print ('Worker started')\n",
        "        # do some initialization here\n",
        "        super(Worker, self).__init__()\n",
        "\n",
        "    def compute (self, data):\n",
        "        print ('Computing things!')\n",
        "        return data * data\n",
        "\n",
        "if __name__ == '__main__':\n",
        "    # This works fine\n",
        "    worker = Worker()\n",
        "    print (worker.compute(3))\n",
        "\n",
        "    # workers get initialized fine\n",
        "    pool = Pool(processes = 4,\n",
        "                initializer = Worker)\n",
        "    data = range(10)\n",
        "    # How to use my worker pool?\n",
        "    result = pool.map(compute, data)"
      ],
      "metadata": {
        "colab": {
          "base_uri": "https://localhost:8080/",
          "height": 321
        },
        "id": "36QCVk046E3y",
        "outputId": "1c1100af-8099-4c0c-ddee-a8a25b344c45"
      },
      "execution_count": 6,
      "outputs": [
        {
          "output_type": "stream",
          "name": "stdout",
          "text": [
            "Worker started\n",
            "Computing things!\n",
            "9\n",
            "Worker started\n",
            "Worker started\n",
            "Worker started\n",
            "Worker started\n"
          ]
        },
        {
          "output_type": "error",
          "ename": "NameError",
          "evalue": "ignored",
          "traceback": [
            "\u001b[0;31m---------------------------------------------------------------------------\u001b[0m",
            "\u001b[0;31mNameError\u001b[0m                                 Traceback (most recent call last)",
            "\u001b[0;32m<ipython-input-6-19c5e1fbce31>\u001b[0m in \u001b[0;36m<cell line: 13>\u001b[0;34m()\u001b[0m\n\u001b[1;32m     21\u001b[0m     \u001b[0mdata\u001b[0m \u001b[0;34m=\u001b[0m \u001b[0mrange\u001b[0m\u001b[0;34m(\u001b[0m\u001b[0;36m10\u001b[0m\u001b[0;34m)\u001b[0m\u001b[0;34m\u001b[0m\u001b[0;34m\u001b[0m\u001b[0m\n\u001b[1;32m     22\u001b[0m     \u001b[0;31m# How to use my worker pool?\u001b[0m\u001b[0;34m\u001b[0m\u001b[0;34m\u001b[0m\u001b[0m\n\u001b[0;32m---> 23\u001b[0;31m     \u001b[0mresult\u001b[0m \u001b[0;34m=\u001b[0m \u001b[0mpool\u001b[0m\u001b[0;34m.\u001b[0m\u001b[0mmap\u001b[0m\u001b[0;34m(\u001b[0m\u001b[0mcompute\u001b[0m\u001b[0;34m,\u001b[0m \u001b[0mdata\u001b[0m\u001b[0;34m)\u001b[0m\u001b[0;34m\u001b[0m\u001b[0;34m\u001b[0m\u001b[0m\n\u001b[0m",
            "\u001b[0;31mNameError\u001b[0m: name 'compute' is not defined"
          ]
        }
      ]
    },
    {
      "cell_type": "markdown",
      "source": [
        "**Q6. Write a python program to create 4 processes, each process should print a different number using the\n",
        "multiprocessing module in python.**"
      ],
      "metadata": {
        "id": "D99D5cK9SDuj"
      }
    },
    {
      "cell_type": "code",
      "source": [
        "import multiprocessing\n",
        "\n",
        "def double_square(n):\n",
        "  return n**n**n\n",
        "\n",
        "def square(n):\n",
        "  return n**2\n",
        "\n",
        "def cube (n):\n",
        "  return n**3\n",
        "\n",
        "def add (n):\n",
        "  return n+n\n",
        "\n",
        "\n",
        "if __name__ == '__main__':\n",
        "  with multiprocessing.Pool(processes = 4) as pool:\n",
        "    out1 = pool.map(double_square, [1,2,3,4])\n",
        "    out2 = pool.map(square, [1,2,3,4])\n",
        "    out3 = pool.map(cube,[1,2,3,4])\n",
        "    out4 = pool.map(add, [3])\n",
        "\n",
        "    print(out1, out2, out3, out4)\n"
      ],
      "metadata": {
        "colab": {
          "base_uri": "https://localhost:8080/"
        },
        "id": "2SN39YbQ9VoY",
        "outputId": "ac3fbe0b-2ba3-46ee-bb48-3d6ce3098952"
      },
      "execution_count": 14,
      "outputs": [
        {
          "output_type": "stream",
          "name": "stdout",
          "text": [
            "[1, 16, 7625597484987, 13407807929942597099574024998205846127479365820592393377723561443721764030073546976801874298166903427690031858186486050853753882811946569946433649006084096] [1, 4, 9, 16] [1, 8, 27, 64] [6]\n"
          ]
        }
      ]
    },
    {
      "cell_type": "code",
      "source": [],
      "metadata": {
        "id": "xp29Wqop9f45"
      },
      "execution_count": null,
      "outputs": []
    }
  ]
}