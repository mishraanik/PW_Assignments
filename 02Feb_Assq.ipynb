{
  "nbformat": 4,
  "nbformat_minor": 0,
  "metadata": {
    "colab": {
      "provenance": []
    },
    "kernelspec": {
      "name": "python3",
      "display_name": "Python 3"
    },
    "language_info": {
      "name": "python"
    }
  },
  "cells": [
    {
      "cell_type": "markdown",
      "source": [
        "**Q1. What are the characteristics of the tuples? Is tuple immutable?**\n",
        "\n",
        "Tuples are a data structure in Python, and they have the following characteristics:\n",
        "\n",
        "Ordered: Tuples maintain the order of elements as they are added. Each element in the tuple is associated with a specific index.\n",
        "\n",
        "Heterogeneous: Tuples can contain elements of different data types. For example, a tuple can have integers, strings, floats, and other data types as its elements.\n",
        "\n",
        "Indexed: Elements in a tuple are accessible using their index. The index starts from 0 for the first element and increments by 1 for each subsequent element.\n",
        "\n",
        "Immutable: Yes, tuples are immutable, which means once a tuple is created, its elements cannot be modified, added, or removed. However, if the elements themselves are mutable objects (e.g., lists), their internal state can still be changed."
      ],
      "metadata": {
        "id": "MUG8FouxvQHN"
      }
    },
    {
      "cell_type": "markdown",
      "source": [
        "**Q2. What are the two tuple methods in python? Give an example of each method. Give a reason why\n",
        "tuples have only two in-built methods as compared to Lists.**\n",
        "\n",
        "In Python, tuples have two built-in methods:\n",
        "\n",
        "1. count(): The count() method is used to count the occurrences of a specified element in a tuple.\n",
        "\n",
        "2. index(): The index() method is used to find the index of the first occurrence of a specified element in a tuple."
      ],
      "metadata": {
        "id": "V8zTDAX-vbBx"
      }
    },
    {
      "cell_type": "markdown",
      "source": [
        "**Q3. Which collection datatypes in python do not allow duplicate items? Write a code using a set to remove\n",
        "duplicates from the given list.**\n",
        "\n",
        "List = [1, 1, 1, 2, 1, 3, 1, 4, 2, 1, 2, 2, 2, 3, 2, 4, 3, 1, 3, 2, 3, 3, 3, 4, 4, 1, 4, 2, 4, 3, 4, 4]\n",
        "\n",
        "\n",
        "-->> In Python, the collection datatype that does not allow duplicate items is the **set**. Sets are unordered collections of unique elements, which means that any duplicate items in a set will automatically be removed, leaving only distinct elements.\n"
      ],
      "metadata": {
        "id": "33NfiOaXvbMh"
      }
    },
    {
      "cell_type": "code",
      "source": [
        "given_list = [1, 1, 1, 2, 1, 3, 1, 4, 2, 1, 2, 2, 2, 3, 2, 4, 3, 1, 3, 2, 3, 3, 3, 4, 4, 1, 4, 2, 4, 3, 4, 4]\n",
        "\n",
        "# Convert the list to a set to remove duplicates\n",
        "unique_set = set(given_list)\n",
        "\n",
        "# Convert the set back to a list (if needed)\n",
        "unique_list = list(unique_set)\n",
        "\n",
        "print(unique_list)\n"
      ],
      "metadata": {
        "colab": {
          "base_uri": "https://localhost:8080/"
        },
        "id": "pny9EHAFv59L",
        "outputId": "fe8f0312-f141-4007-8db2-49e8f8d0cab2"
      },
      "execution_count": 1,
      "outputs": [
        {
          "output_type": "stream",
          "name": "stdout",
          "text": [
            "[1, 2, 3, 4]\n"
          ]
        }
      ]
    },
    {
      "cell_type": "markdown",
      "source": [
        "**Q4. Explain the difference between the union() and update() methods for a set. Give an example of\n",
        "each method.**\n",
        "\n",
        "Both `union()` and `update()` are methods used to combine sets in Python, but they differ in how they handle the original sets and the new elements being added.\n",
        "\n",
        "1. **union():** The `union()` method returns a new set that contains all the unique elements from both sets. It does not modify the original sets but rather creates a new set containing the elements from both sets.\n",
        "\n",
        "2. **update():** The `update()` method, on the other hand, modifies the original set by adding all the elements from another set (or any iterable) into the set on which the method is called. It performs an in-place update of the set, adding the elements from the specified set without creating a new set."
      ],
      "metadata": {
        "id": "55GNOWzxwfFs"
      }
    },
    {
      "cell_type": "code",
      "source": [
        "# Example of union() method:\n",
        "\n",
        "set1 = {1, 2, 3}\n",
        "set2 = {3, 4, 5}\n",
        "\n",
        "# Using union() method to combine set1 and set2\n",
        "union_set = set1.union(set2)\n",
        "\n",
        "print(\"Set 1:\", set1)\n",
        "print(\"Set 2:\", set2)\n",
        "print(\"Union Set:\", union_set)\n"
      ],
      "metadata": {
        "colab": {
          "base_uri": "https://localhost:8080/"
        },
        "id": "qEl_uxErw-9K",
        "outputId": "6126bd8a-714c-48d4-945d-6c4d4e2ec50e"
      },
      "execution_count": 3,
      "outputs": [
        {
          "output_type": "stream",
          "name": "stdout",
          "text": [
            "Set 1: {1, 2, 3}\n",
            "Set 2: {3, 4, 5}\n",
            "Union Set: {1, 2, 3, 4, 5}\n"
          ]
        }
      ]
    },
    {
      "cell_type": "code",
      "source": [
        "# Example of update() method:\n",
        "\n",
        "set1 = {1, 2, 3}\n",
        "set2 = {3, 4, 5}\n",
        "\n",
        "# Using update() method to add elements from set2 into set1\n",
        "set1.update(set2)\n",
        "\n",
        "print(\"Updated Set 1:\", set1)\n",
        "print(\"Set 2:\", set2)\n"
      ],
      "metadata": {
        "colab": {
          "base_uri": "https://localhost:8080/"
        },
        "id": "3AFXvdRZw_FY",
        "outputId": "641ccba1-93ed-4b85-9402-a632872a4f5f"
      },
      "execution_count": 4,
      "outputs": [
        {
          "output_type": "stream",
          "name": "stdout",
          "text": [
            "Updated Set 1: {1, 2, 3, 4, 5}\n",
            "Set 2: {3, 4, 5}\n"
          ]
        }
      ]
    },
    {
      "cell_type": "markdown",
      "source": [
        "**Q5. What is a dictionary? Give an example. Also, state whether a dictionary is ordered or unordered.**\n",
        "\n",
        "A dictionary is a built-in data structure in Python used to store a collection of key-value pairs. It is also known as an associative array or a hash map in other programming languages. In a dictionary, each element consists of a unique key and its associated value. The key acts as an index, allowing efficient retrieval of the corresponding value.\n",
        "Dictionaries are unordered in Python:"
      ],
      "metadata": {
        "id": "lmHazPIjwtsk"
      }
    },
    {
      "cell_type": "markdown",
      "source": [
        "**Q6. Can we create a nested dictionary? If so, please give an example by creating a simple one-level\n",
        "nested dictionary.**\n",
        "\n",
        "Yes, we can create a nested dictionary in Python. A nested dictionary is a dictionary that contains other dictionaries as its values. This allows us to organize data in a hierarchical manner, creating multiple levels of dictionaries within dictionaries."
      ],
      "metadata": {
        "id": "V8gGzt1kwuA0"
      }
    },
    {
      "cell_type": "code",
      "source": [
        "# Creating a one-level nested dictionary to store contact information\n",
        "contacts = {\n",
        "    'Alice': {\n",
        "        'phone': '123-456-7890',\n",
        "        'email': 'alice@example.com',\n",
        "        'address': '123 Main St'\n",
        "    },\n",
        "    'Bob': {\n",
        "        'phone': '987-654-3210',\n",
        "        'email': 'bob@example.com',\n",
        "        'address': '456 Elm St'\n",
        "    },\n",
        "    'Carol': {\n",
        "        'phone': '111-222-3333',\n",
        "        'email': 'carol@example.com',\n",
        "        'address': '789 Oak St'\n",
        "    }\n",
        "}\n"
      ],
      "metadata": {
        "id": "q214wPybwkiJ"
      },
      "execution_count": 5,
      "outputs": []
    },
    {
      "cell_type": "markdown",
      "source": [
        "**Q7. Using setdefault() method, create key named topics in the given dictionary and also add the value of\n",
        "the key as this list ['Python', 'Machine Learning’, 'Deep Learning']\n",
        "dict1 = {'language' : 'Python', 'course': 'Data Science Masters'}**\n",
        "\n",
        "\n",
        "You can use the setdefault() method to add a new key named 'topics' to the given dictionary dict1 and set its value as the list ['Python', 'Machine Learning', 'Deep Learning']. The setdefault() method checks if the key already exists in the dictionary. If it does, it returns the value associated with the key. If the key does not exist, it adds the key to the dictionary with the specified default value.\n",
        "\n"
      ],
      "metadata": {
        "id": "b9YFvSHgyFs5"
      }
    },
    {
      "cell_type": "code",
      "source": [
        "dict1 = {'language': 'Python', 'course': 'Data Science Masters'}\n",
        "\n",
        "# Using setdefault() to add 'topics' key with the list as its value\n",
        "dict1.setdefault('topics', ['Python', 'Machine Learning', 'Deep Learning'])\n",
        "\n",
        "print(dict1)\n"
      ],
      "metadata": {
        "colab": {
          "base_uri": "https://localhost:8080/"
        },
        "id": "MjN6bqCuyZyD",
        "outputId": "0cfecedf-66d1-4cab-d827-5f86e3488cc5"
      },
      "execution_count": 6,
      "outputs": [
        {
          "output_type": "stream",
          "name": "stdout",
          "text": [
            "{'language': 'Python', 'course': 'Data Science Masters', 'topics': ['Python', 'Machine Learning', 'Deep Learning']}\n"
          ]
        }
      ]
    },
    {
      "cell_type": "markdown",
      "source": [
        "**Q8. What are the three view objects in dictionaries? Use the three in-built methods in python to display\n",
        "these three view objects for the given dictionary.\n",
        "dict1 = {'Sport': 'Cricket' , 'Teams': ['India', 'Australia', 'England', 'South Africa', 'Sri Lanka', 'New Zealand']}**\n",
        "\n",
        "\n",
        "\n",
        "-->> In Python, dictionaries have three view objects that provide different ways to view the keys, values, and key-value pairs of the dictionary without making a copy of the data. These view objects are:\n",
        "\n",
        "dict_keys: This view object contains the keys of the dictionary.\n",
        "dict_values: This view object contains the values of the dictionary.\n",
        "dict_items: This view object contains the key-value pairs of the dictionary as tuples."
      ],
      "metadata": {
        "id": "H-Ye4_8VyFy5"
      }
    },
    {
      "cell_type": "code",
      "source": [
        "dict1 = {'Sport': 'Cricket', 'Teams': ['India', 'Australia', 'England', 'South Africa', 'Sri Lanka', 'New Zealand']}\n",
        "\n",
        "# Get the view objects for keys, values, and items\n",
        "keys_view = dict1.keys()\n",
        "values_view = dict1.values()\n",
        "items_view = dict1.items()\n",
        "\n",
        "# Display the view objects\n",
        "print(\"dict_keys:\", keys_view)\n",
        "print(\"dict_values:\", values_view)\n",
        "print(\"dict_items:\", items_view)\n"
      ],
      "metadata": {
        "id": "zYgylJr3zCOa",
        "outputId": "75d6b31a-e224-481f-c4c9-7a401b6f16a2",
        "colab": {
          "base_uri": "https://localhost:8080/"
        }
      },
      "execution_count": 7,
      "outputs": [
        {
          "output_type": "stream",
          "name": "stdout",
          "text": [
            "dict_keys: dict_keys(['Sport', 'Teams'])\n",
            "dict_values: dict_values(['Cricket', ['India', 'Australia', 'England', 'South Africa', 'Sri Lanka', 'New Zealand']])\n",
            "dict_items: dict_items([('Sport', 'Cricket'), ('Teams', ['India', 'Australia', 'England', 'South Africa', 'Sri Lanka', 'New Zealand'])])\n"
          ]
        }
      ]
    },
    {
      "cell_type": "code",
      "source": [],
      "metadata": {
        "id": "b8o0m7VSzDB_"
      },
      "execution_count": null,
      "outputs": []
    }
  ]
}